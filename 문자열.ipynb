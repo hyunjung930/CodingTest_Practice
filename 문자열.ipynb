{
  "nbformat": 4,
  "nbformat_minor": 0,
  "metadata": {
    "colab": {
      "name": "문자열",
      "provenance": [],
      "authorship_tag": "ABX9TyMrrZi4MwiyWLwY1HjW9XTy",
      "include_colab_link": true
    },
    "kernelspec": {
      "name": "python3",
      "display_name": "Python 3"
    },
    "language_info": {
      "name": "python"
    }
  },
  "cells": [
    {
      "cell_type": "markdown",
      "metadata": {
        "id": "view-in-github",
        "colab_type": "text"
      },
      "source": [
        "<a href=\"https://colab.research.google.com/github/hyunjung930/CodingTest_Practice/blob/hyunjung/%EB%AC%B8%EC%9E%90%EC%97%B4.ipynb\" target=\"_parent\"><img src=\"https://colab.research.google.com/assets/colab-badge.svg\" alt=\"Open In Colab\"/></a>"
      ]
    },
    {
      "cell_type": "markdown",
      "source": [
        "# ***문자열***"
      ],
      "metadata": {
        "id": "dHIQXGqFnfuE"
      }
    },
    {
      "cell_type": "code",
      "execution_count": 1,
      "metadata": {
        "colab": {
          "base_uri": "https://localhost:8080/"
        },
        "id": "Rpv7Qb8rndow",
        "outputId": "d69020a5-b6ab-4d21-de54-956fcf0b4b77"
      },
      "outputs": [
        {
          "output_type": "stream",
          "name": "stdout",
          "text": [
            "1\n",
            "1\n",
            "1\n"
          ]
        }
      ],
      "source": [
        "# N개의 숫자가 공백 없이 쓰여있다. \n",
        "# 이 숫자를 모두 합해서 출력하는 프로그램을 작성하시오.\n",
        "x = int(input())\n",
        "y = input()\n",
        "sum = 0\n",
        "\n",
        "for i in range(x):\n",
        "  sum += int(y[i])\n",
        "\n",
        "print(sum)\n",
        "\n",
        "# 문제 접근\n",
        "# y는 str 형식으로 인덱스 활용\n",
        "# for문 x번 반복해 m[i]를 sum에 누적해 합 구함."
      ]
    },
    {
      "cell_type": "code",
      "source": [
        "# 정수 N개의 합\n",
        "# python3 : def solve(a: list) -> int\n",
        "# a: 합을 구해야 하는 정수 n개가 저장되어 있는 리스트 (0 ≤ a[i] ≤ 1,000,000, 1 ≤ n ≤ 3,000,000)\n",
        "def solve(a):\n",
        "  return sum(a)"
      ],
      "metadata": {
        "id": "lbkZ7g7hpRli"
      },
      "execution_count": null,
      "outputs": []
    },
    {
      "cell_type": "code",
      "source": [
        "# OX문제\n",
        "n = int(input())\n",
        "for _ in range(n):\n",
        "    ox = list(input())\n",
        "    score = 0  \n",
        "    sum_score = 0  # 새로운 ox를 입력 받으면 점수 합계를 리셋한다.\n",
        "    for a in ox:\n",
        "        if a == 'O':\n",
        "            score += 1  # 'O'가 연속되면 점수가 1점씩 커진다.\n",
        "            sum_score += score  # sum_score = sum_score + score\n",
        "        else:\n",
        "            score = 0\n",
        "    print(sum_score)"
      ],
      "metadata": {
        "id": "2qBdQpNxpRcr"
      },
      "execution_count": null,
      "outputs": []
    },
    {
      "cell_type": "code",
      "source": [
        "# 알파벳 찾기\n",
        "# 알파벳 소문자로만 이루어진 단어 S가 주어진다.\n",
        "# 각각의 알파벳에 대해서, 단어에 포함되어 있는 경우에는 처음 등장하는 위치를, 포함되어 있지 않은 경우에는 -1을 출력하는 프로그램을 작성하시오.\n",
        "s = input()\n",
        "str ='abcdefghijklmnopqrstuvwxyz'\n",
        "\n",
        "for i in str:\n",
        "    if i in s:\n",
        "        print(s.index(i), end= ' ')\n",
        "    else:\n",
        "        print( -1, end =' ')\n"
      ],
      "metadata": {
        "colab": {
          "base_uri": "https://localhost:8080/"
        },
        "id": "h13EYJwipRTk",
        "outputId": "89e0ffed-fbba-436d-b16e-566f577a3d9d"
      },
      "execution_count": 2,
      "outputs": [
        {
          "output_type": "stream",
          "name": "stdout",
          "text": [
            "baekjoon\n",
            "1 0 -1 -1 2 -1 -1 -1 -1 4 3 -1 -1 7 5 -1 -1 -1 -1 -1 -1 -1 -1 -1 -1 -1 "
          ]
        }
      ]
    },
    {
      "cell_type": "code",
      "source": [
        ""
      ],
      "metadata": {
        "id": "YnsuXx-spRMy"
      },
      "execution_count": null,
      "outputs": []
    },
    {
      "cell_type": "code",
      "source": [
        ""
      ],
      "metadata": {
        "id": "mnllsDckpRD-"
      },
      "execution_count": null,
      "outputs": []
    }
  ]
}