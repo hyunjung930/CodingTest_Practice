{
  "nbformat": 4,
  "nbformat_minor": 0,
  "metadata": {
    "colab": {
      "name": "Python- 코테1",
      "provenance": [],
      "collapsed_sections": [],
      "authorship_tag": "ABX9TyMmftRYefY7a0PcEj3cAA3K",
      "include_colab_link": true
    },
    "kernelspec": {
      "name": "python3",
      "display_name": "Python 3"
    },
    "language_info": {
      "name": "python"
    }
  },
  "cells": [
    {
      "cell_type": "markdown",
      "metadata": {
        "id": "view-in-github",
        "colab_type": "text"
      },
      "source": [
        "<a href=\"https://colab.research.google.com/github/hyunjung930/CodingTest_Practice/blob/hyunjung/Python_%EC%BD%94%ED%85%8C1.ipynb\" target=\"_parent\"><img src=\"https://colab.research.google.com/assets/colab-badge.svg\" alt=\"Open In Colab\"/></a>"
      ]
    },
    {
      "cell_type": "markdown",
      "source": [
        "# 1. **자료형**"
      ],
      "metadata": {
        "id": "NPu5I-zW6GjE"
      }
    },
    {
      "cell_type": "code",
      "execution_count": null,
      "metadata": {
        "colab": {
          "base_uri": "https://localhost:8080/"
        },
        "id": "2xHRy82sp0rx",
        "outputId": "a4e050de-cc76-404e-8816-ee30fe28bdd1"
      },
      "outputs": [
        {
          "output_type": "stream",
          "name": "stdout",
          "text": [
            "777\n"
          ]
        }
      ],
      "source": [
        " a = 777\n",
        " print(a)"
      ]
    },
    {
      "cell_type": "code",
      "source": [
        "a = a + 5\n",
        "print(a)"
      ],
      "metadata": {
        "colab": {
          "base_uri": "https://localhost:8080/"
        },
        "id": "lhsdV0VPrW0x",
        "outputId": "af703bfc-88ea-447a-d97d-e66d95c17728"
      },
      "execution_count": null,
      "outputs": [
        {
          "output_type": "stream",
          "name": "stdout",
          "text": [
            "782\n"
          ]
        }
      ]
    },
    {
      "cell_type": "code",
      "source": [
        "a = a +3\n",
        "print(a)"
      ],
      "metadata": {
        "colab": {
          "base_uri": "https://localhost:8080/"
        },
        "id": "JMPQ73izrW9Z",
        "outputId": "cf23ff40-cd6c-4153-8ddd-adbe32da7da5"
      },
      "execution_count": null,
      "outputs": [
        {
          "output_type": "stream",
          "name": "stdout",
          "text": [
            "785\n"
          ]
        }
      ]
    },
    {
      "cell_type": "code",
      "source": [
        "# 리스트 안 반복문\n",
        "a = [i for i in range(10)]\n",
        "\n",
        "print(a)"
      ],
      "metadata": {
        "colab": {
          "base_uri": "https://localhost:8080/"
        },
        "id": "Bw2dy4wprXAL",
        "outputId": "265c6b9e-95c2-4170-8b51-65213502f918"
      },
      "execution_count": null,
      "outputs": [
        {
          "output_type": "stream",
          "name": "stdout",
          "text": [
            "[0, 1, 2, 3, 4, 5, 6, 7, 8, 9]\n"
          ]
        }
      ]
    },
    {
      "cell_type": "code",
      "source": [
        "# 0~19까지의 수수 중에서서 홀수만만 포함하는는 리스트트\n",
        "array = [i for i in range(20) if i % 2 ==1]\n",
        "print(array)\n",
        "# 1~9까지의의 수들이 제곱 값을을 포함하는는 리스트\n",
        "array1 = [i*i for i in range(1,10)]\n",
        "print(array1)"
      ],
      "metadata": {
        "colab": {
          "base_uri": "https://localhost:8080/"
        },
        "id": "ulU2PFfPrXCx",
        "outputId": "ff801bdd-dcd7-4d64-ce66-391cf36a89e2"
      },
      "execution_count": null,
      "outputs": [
        {
          "output_type": "stream",
          "name": "stdout",
          "text": [
            "[1, 3, 5, 7, 9, 11, 13, 15, 17, 19]\n",
            "[1, 4, 9, 16, 25, 36, 49, 64, 81]\n"
          ]
        }
      ]
    },
    {
      "cell_type": "code",
      "source": [
        "# 리스트 컴프리헨션과 일반적인 코드 비교하기(0부터 19까지의 수 중에서 홀수만 포함하는 리스트)\n",
        "\n",
        "# 1. 리스트 컴프리헨션\n",
        "array = [i for i in range(20) if i % 2 == 1]\n",
        "print(array)\n",
        "\n",
        "# 2. 일반적인 코드\n",
        "array = []\n",
        "for i in range(20):\n",
        "   if i % 2 == 1:\n",
        "     array.append(i)\n",
        "print(array) "
      ],
      "metadata": {
        "id": "5ll04J6TwJpw",
        "colab": {
          "base_uri": "https://localhost:8080/"
        },
        "outputId": "ce7d36ec-7046-4efe-b96a-1920b123ec82"
      },
      "execution_count": 3,
      "outputs": [
        {
          "output_type": "stream",
          "name": "stdout",
          "text": [
            "[1, 3, 5, 7, 9, 11, 13, 15, 17, 19]\n",
            "[1, 3, 5, 7, 9, 11, 13, 15, 17, 19]\n"
          ]
        }
      ]
    },
    {
      "cell_type": "code",
      "source": [
        "# n*m크기의 2차원 리스트 초기화(옳은 예시)\n",
        "n = 4\n",
        "m = 3\n",
        "array = [[0] * m for _ in range(n) ]\n",
        "print(array)\n",
        "\n",
        "# 잘못된 예시 - list 값의 원소를 바꿔준다면 값이 다 다르게 나온다..\n",
        "n = 4\n",
        "m = 3\n",
        "array = [[0] * m] * n\n",
        "print(array)\n",
        "\n",
        "array[1][1] = 5\n",
        "print(array)"
      ],
      "metadata": {
        "id": "FMOAMHEGwJkR",
        "colab": {
          "base_uri": "https://localhost:8080/"
        },
        "outputId": "433dcb0e-9bd5-4c76-df70-0bb23e4babb0"
      },
      "execution_count": 5,
      "outputs": [
        {
          "output_type": "stream",
          "name": "stdout",
          "text": [
            "[[0, 0, 0], [0, 0, 0], [0, 0, 0], [0, 0, 0]]\n",
            "[[0, 0, 0], [0, 0, 0], [0, 0, 0], [0, 0, 0]]\n",
            "[[0, 5, 0], [0, 5, 0], [0, 5, 0], [0, 5, 0]]\n"
          ]
        }
      ]
    },
    {
      "cell_type": "markdown",
      "source": [
        "# **2. 문자열 자료형**"
      ],
      "metadata": {
        "id": "RA4z_62B6NxR"
      }
    },
    {
      "cell_type": "code",
      "source": [
        "data = 'Hello world'\n",
        "print(data)\n",
        "data = \"Don't you know \\\"Python\\\"?\"\n",
        "print(data)"
      ],
      "metadata": {
        "id": "ACdM6r8FwJej",
        "colab": {
          "base_uri": "https://localhost:8080/"
        },
        "outputId": "687dcb0a-a13f-458c-ff34-fa9ee9076f4a"
      },
      "execution_count": 6,
      "outputs": [
        {
          "output_type": "stream",
          "name": "stdout",
          "text": [
            "Hello world\n",
            "Don't you know \"Python\"?\n"
          ]
        }
      ]
    },
    {
      "cell_type": "code",
      "source": [
        "#문자열 연산\n",
        "a = \"Hello\"\n",
        "b = \"World\"\n",
        "print(a + \"\" + b)\n",
        "\n",
        "a = \"String\"\n",
        "print(a * 3)\n",
        "\n",
        "a = \"ABCDFE\"\n",
        "print(a[2:4])\n"
      ],
      "metadata": {
        "id": "kwdC_sGXwJY2",
        "colab": {
          "base_uri": "https://localhost:8080/"
        },
        "outputId": "30797080-9558-4fd4-f9c5-76f1c769650f"
      },
      "execution_count": 7,
      "outputs": [
        {
          "output_type": "stream",
          "name": "stdout",
          "text": [
            "HelloWorld\n",
            "StringStringString\n",
            "CD\n"
          ]
        }
      ]
    },
    {
      "cell_type": "markdown",
      "source": [
        "# 2-1 **튜플 자료형 **"
      ],
      "metadata": {
        "id": "KEtKlzio7N05"
      }
    },
    {
      "cell_type": "code",
      "source": [
        "a = (1,2,3,4,5,6,7,8,9)\n",
        "#네 번째 원소만 출력\n",
        "print(a[3])\n",
        "#두 번째 원소부터 네 번째 원소까지\n",
        "print(a[1:4])"
      ],
      "metadata": {
        "colab": {
          "base_uri": "https://localhost:8080/"
        },
        "id": "fo61DT4e6_AZ",
        "outputId": "2ccb6c49-c394-40ce-d755-dfb6a9fc2981"
      },
      "execution_count": 8,
      "outputs": [
        {
          "output_type": "stream",
          "name": "stdout",
          "text": [
            "4\n",
            "(2, 3, 4)\n"
          ]
        }
      ]
    },
    {
      "cell_type": "code",
      "source": [
        "#오류 발생 예제\n",
        "a = (1,2,3,4)\n",
        "print(a)\n",
        "a[2] = 7"
      ],
      "metadata": {
        "id": "aEU3wgjp6-9R"
      },
      "execution_count": null,
      "outputs": []
    },
    {
      "cell_type": "markdown",
      "source": [
        "# ***2-2 사전자료형***"
      ],
      "metadata": {
        "id": "vYEpZVBy-96o"
      }
    },
    {
      "cell_type": "code",
      "source": [
        "data = dict()\n",
        "data['사과'] = 'Apple'\n",
        "data['바나나'] = 'Banana'\n",
        "data['코코넛'] = 'Coconut'\n",
        "print(data)\n",
        "\n",
        "if '사과'in data:\n",
        "  print(\"'사과'를 키로 가지는 데이터가 존재합니다\")"
      ],
      "metadata": {
        "colab": {
          "base_uri": "https://localhost:8080/"
        },
        "id": "ewzUKJB36-6a",
        "outputId": "ff839551-ecb5-41aa-c17f-65614117a529"
      },
      "execution_count": 10,
      "outputs": [
        {
          "output_type": "stream",
          "name": "stdout",
          "text": [
            "{'사과': 'Apple', '바나나': 'Banana', '코코넛': 'Coconut'}\n",
            "'사과'를 키로 가지는 데이터가 존재합니다\n"
          ]
        }
      ]
    },
    {
      "cell_type": "code",
      "source": [
        "data = dict()\n",
        "data['사과'] = 'Apple'\n",
        "data['바나나'] = 'Banana'\n",
        "data['코코넛'] = 'Coconut'\n",
        "print(data)\n",
        "\n",
        "# 키 데이터만 담은 리스트\n",
        "key_list = data.keys()\n",
        "# 값 데이터만 담은 리스트\n",
        "value_list = data.values()\n",
        "print(key_list)\n",
        "print(value_list)\n",
        "\n",
        "#각 키에 따른 값을 하나씩 출력\n",
        "for key in key_list:\n",
        "  print(data[key])"
      ],
      "metadata": {
        "colab": {
          "base_uri": "https://localhost:8080/"
        },
        "id": "rRUHfNXF6-3S",
        "outputId": "6aa9e4b5-2075-4c41-8d35-f08241a95212"
      },
      "execution_count": 12,
      "outputs": [
        {
          "output_type": "stream",
          "name": "stdout",
          "text": [
            "{'사과': 'Apple', '바나나': 'Banana', '코코넛': 'Coconut'}\n",
            "dict_keys(['사과', '바나나', '코코넛'])\n",
            "dict_values(['Apple', 'Banana', 'Coconut'])\n",
            "Apple\n",
            "Banana\n",
            "Coconut\n"
          ]
        }
      ]
    },
    {
      "cell_type": "code",
      "source": [
        "a = dict()\n",
        "a['홍길동'] = 97\n",
        "a['제갈길동'] = 98\n",
        "print(a)\n",
        "\n",
        "b = {\n",
        "     '홍길동' : 97,\n",
        "     '제갈길동' : 98\n",
        "}\n",
        "print(b)\n",
        "print(b['제갈길동'])\n",
        "\n",
        "key_list = list(b.keys())\n",
        "print(key_list)"
      ],
      "metadata": {
        "colab": {
          "base_uri": "https://localhost:8080/"
        },
        "id": "ziFeP5hS6-0e",
        "outputId": "0a559c32-7734-4c6d-dac2-1f5a18d27f2d"
      },
      "execution_count": 13,
      "outputs": [
        {
          "output_type": "stream",
          "name": "stdout",
          "text": [
            "{'홍길동': 97, '제갈길동': 98}\n",
            "{'홍길동': 97, '제갈길동': 98}\n",
            "98\n",
            "['홍길동', '제갈길동']\n"
          ]
        }
      ]
    },
    {
      "cell_type": "markdown",
      "source": [
        "# ***2-3집합자료형***"
      ],
      "metadata": {
        "id": "fSNQ7ttsA2lP"
      }
    },
    {
      "cell_type": "code",
      "source": [
        "# 집합 자료형 초기화 방법1\n",
        "data = set([1,1,2,3,4,4,5])\n",
        "print(data)\n",
        "# 집합 자료형 초기화 방법2\n",
        "data = {1,1,2,3,4,4,5}\n",
        "print(data)"
      ],
      "metadata": {
        "colab": {
          "base_uri": "https://localhost:8080/"
        },
        "id": "VqkmHeU96-r2",
        "outputId": "387bc267-b287-4b39-fd54-de43d16be328"
      },
      "execution_count": 14,
      "outputs": [
        {
          "output_type": "stream",
          "name": "stdout",
          "text": [
            "{1, 2, 3, 4, 5}\n",
            "{1, 2, 3, 4, 5}\n"
          ]
        }
      ]
    },
    {
      "cell_type": "code",
      "source": [
        "#집합 자료형의 연산\n",
        "a = set([1,2,3,4,5])\n",
        "b = set([3,4,5,6,7])\n",
        "#합집합\n",
        "print(a|b)\n",
        "#교집합\n",
        "print(a&b)\n",
        "#차집합\n",
        "print(a-b)"
      ],
      "metadata": {
        "colab": {
          "base_uri": "https://localhost:8080/"
        },
        "id": "WKnmZk8ifuqp",
        "outputId": "47836a63-ae79-4f8f-8827-8c727a58b93b"
      },
      "execution_count": 15,
      "outputs": [
        {
          "output_type": "stream",
          "name": "stdout",
          "text": [
            "{1, 2, 3, 4, 5, 6, 7}\n",
            "{3, 4, 5}\n",
            "{1, 2}\n"
          ]
        }
      ]
    },
    {
      "cell_type": "code",
      "source": [
        "#집합자료형 관련 함수\n",
        "data = set([1,2,3])\n",
        "print(data)\n",
        "\n",
        "#새로운 원소 추가\n",
        "data.add(4)\n",
        "print(data)\n",
        "#새로운 원소 여러개 추가\n",
        "data.update([5,6])\n",
        "print(data)\n",
        "#특정한 값을 갖는 원소 삭제\n",
        "data.remove(3)\n",
        "print(data)\n"
      ],
      "metadata": {
        "colab": {
          "base_uri": "https://localhost:8080/"
        },
        "id": "7wBMBjxyfuj3",
        "outputId": "937b7633-1539-48b6-999c-997d81c35b1c"
      },
      "execution_count": 16,
      "outputs": [
        {
          "output_type": "stream",
          "name": "stdout",
          "text": [
            "{1, 2, 3}\n",
            "{1, 2, 3, 4}\n",
            "{1, 2, 3, 4, 5, 6}\n",
            "{1, 2, 4, 5, 6}\n"
          ]
        }
      ]
    },
    {
      "cell_type": "markdown",
      "source": [
        "# ***기본 입출력***"
      ],
      "metadata": {
        "id": "rSP6aiBEhvK8"
      }
    },
    {
      "cell_type": "code",
      "source": [
        "# 데이터의 개수 입력\n",
        "n = int(input())\n",
        "# 각 데이터를 공백을 기준으로 구분하여 입력\n",
        "data = list(map(int, input().split()))\n",
        "\n",
        "data.sort(reverse=True)\n",
        "print(data)"
      ],
      "metadata": {
        "colab": {
          "base_uri": "https://localhost:8080/"
        },
        "id": "4y6WKQiXg46W",
        "outputId": "514c8a76-acd8-4ab0-8bac-61db13e29cc6"
      },
      "execution_count": 18,
      "outputs": [
        {
          "output_type": "stream",
          "name": "stdout",
          "text": [
            "5\n",
            "65 90 75 34 99\n",
            "[99, 90, 75, 65, 34]\n"
          ]
        }
      ]
    },
    {
      "cell_type": "markdown",
      "source": [
        "# ***빠르게 입력 받기***"
      ],
      "metadata": {
        "id": "153JvMGriwFh"
      }
    },
    {
      "cell_type": "code",
      "source": [
        "import sys\n",
        "#문자열 입력 받기\n",
        "data = sys.stdin.readline().rstrip()\n",
        "print(data)"
      ],
      "metadata": {
        "colab": {
          "base_uri": "https://localhost:8080/"
        },
        "id": "DRMDreBLg4yj",
        "outputId": "d1dc6547-41b1-4374-ef4c-38c2fe06df8b"
      },
      "execution_count": 19,
      "outputs": [
        {
          "output_type": "stream",
          "name": "stdout",
          "text": [
            "\n"
          ]
        }
      ]
    },
    {
      "cell_type": "code",
      "source": [
        "#출력을 위한 전형적인 소스코드\n",
        "#출력할 변수들\n",
        "a = 1\n",
        "b = 2\n",
        "print(a,b)\n",
        "print(7, end=\" \")\n",
        "print(8, end=\" \")\n",
        "\n",
        "#출력할 변수\n",
        "answer = 7\n",
        "print(\"정답은 \" + str(answer) + \"입니다.\")"
      ],
      "metadata": {
        "colab": {
          "base_uri": "https://localhost:8080/"
        },
        "id": "-eL_pJ1Vfugw",
        "outputId": "65962da2-e92d-4ae9-8688-cc49b2cb83bb"
      },
      "execution_count": 21,
      "outputs": [
        {
          "output_type": "stream",
          "name": "stdout",
          "text": [
            "1 2\n",
            "7 8 정답은 7입니다.\n"
          ]
        }
      ]
    },
    {
      "cell_type": "markdown",
      "source": [
        "# ***조건문과 반복문***"
      ],
      "metadata": {
        "id": "Rl5UP_wokDMk"
      }
    },
    {
      "cell_type": "code",
      "source": [
        "x = 15\n",
        "if x >= 10:\n",
        "  print(\"x >= 10\")\n",
        "if x >= 0:\n",
        "  print(\"x >= 0\")\n",
        "if x >= 30:\n",
        "  print(\"x >= 30\")"
      ],
      "metadata": {
        "colab": {
          "base_uri": "https://localhost:8080/"
        },
        "id": "8lRO_5mxkDfn",
        "outputId": "60289281-c934-4931-af03-f5d893af9d4b"
      },
      "execution_count": 22,
      "outputs": [
        {
          "output_type": "stream",
          "name": "stdout",
          "text": [
            "x >= 10\n",
            "x >= 0\n"
          ]
        }
      ]
    },
    {
      "cell_type": "code",
      "source": [
        "a = -5\n",
        "\n",
        "if a >= 0:\n",
        "  print(\"a >= 0\")\n",
        "elif a >= -10:\n",
        "  print(\"0 > a >= -10\")\n",
        "else:\n",
        "  print(\"-10 > a\") "
      ],
      "metadata": {
        "colab": {
          "base_uri": "https://localhost:8080/"
        },
        "id": "Xu6NLrjJkEWv",
        "outputId": "aa1e03e7-43a6-4c53-8114-5726bca36bfd"
      },
      "execution_count": 24,
      "outputs": [
        {
          "output_type": "stream",
          "name": "stdout",
          "text": [
            "0 > a >= -10\n"
          ]
        }
      ]
    },
    {
      "cell_type": "code",
      "source": [
        "score = 85\n",
        "if score >= 90:\n",
        "  print(\"학점: A\")\n",
        "elif score >= 80:\n",
        "  print(\"학점: B\")\n",
        "elif score >= 70:\n",
        "  print(\"학점: C\")\n",
        "else:\n",
        "  print(\"학점: F\")"
      ],
      "metadata": {
        "colab": {
          "base_uri": "https://localhost:8080/"
        },
        "id": "2et6pa_ikEUb",
        "outputId": "4d7878b6-4196-4836-877d-2c3301a49b32"
      },
      "execution_count": 25,
      "outputs": [
        {
          "output_type": "stream",
          "name": "stdout",
          "text": [
            "학점: B\n"
          ]
        }
      ]
    },
    {
      "cell_type": "code",
      "source": [
        "#논리연산자\n",
        "if True or False: #트루가 있음\n",
        "  print(\"Yes\")\n",
        "\n",
        "a = 15\n",
        "\n",
        "if a <= 20 and a >= 0:\n",
        "  print(\"Yes\")"
      ],
      "metadata": {
        "colab": {
          "base_uri": "https://localhost:8080/"
        },
        "id": "b1tSZKWTkERi",
        "outputId": "40c81351-25eb-49b4-df5a-96b6907a1bd7"
      },
      "execution_count": 27,
      "outputs": [
        {
          "output_type": "stream",
          "name": "stdout",
          "text": [
            "Yes\n",
            "Yes\n"
          ]
        }
      ]
    },
    {
      "cell_type": "code",
      "source": [
        "#pass\n",
        "a = 50\n",
        "if a >= 30:\n",
        "  pass\n",
        "else:\n",
        "  print(\"a < 30\")"
      ],
      "metadata": {
        "id": "DPW3U8MtkEOb"
      },
      "execution_count": 29,
      "outputs": []
    },
    {
      "cell_type": "markdown",
      "source": [
        "# ***반복문***"
      ],
      "metadata": {
        "id": "J5hfKBwttxoi"
      }
    },
    {
      "cell_type": "code",
      "source": [
        "#1부터 9까지 모든 정수의 합 구하기 예제(while문)\n",
        "i = 1\n",
        "result = 0\n",
        "while i <= 9:\n",
        "  result += i\n",
        "  i +=1\n",
        "\n",
        "print(result)"
      ],
      "metadata": {
        "colab": {
          "base_uri": "https://localhost:8080/"
        },
        "id": "NIJkNl7NkEIs",
        "outputId": "24b786a5-b74c-4872-c6bd-223898d93b3d"
      },
      "execution_count": 32,
      "outputs": [
        {
          "output_type": "stream",
          "name": "stdout",
          "text": [
            "45\n"
          ]
        }
      ]
    },
    {
      "cell_type": "code",
      "source": [
        "#1부터 9까지의 홀수 합 구하기\n",
        "i = 1\n",
        "result = 0\n",
        "while i <= 9:\n",
        "  if i % 2 == 1:\n",
        "    result += i\n",
        "  i += 1\n",
        "\n",
        "print(result)"
      ],
      "metadata": {
        "colab": {
          "base_uri": "https://localhost:8080/"
        },
        "id": "HKTldtv0kEFk",
        "outputId": "0c3b185f-9650-4c0f-cd39-32c3873f02b9"
      },
      "execution_count": 33,
      "outputs": [
        {
          "output_type": "stream",
          "name": "stdout",
          "text": [
            "25\n"
          ]
        }
      ]
    },
    {
      "cell_type": "code",
      "source": [
        "#for문\n",
        "array = [9,8,7,6,5]\n",
        "\n",
        "for x in array:\n",
        "  print(x)"
      ],
      "metadata": {
        "colab": {
          "base_uri": "https://localhost:8080/"
        },
        "id": "sixgIYBGkD_2",
        "outputId": "e1bd87e5-2d51-4c67-ba8c-a99c6bf09fbd"
      },
      "execution_count": 34,
      "outputs": [
        {
          "output_type": "stream",
          "name": "stdout",
          "text": [
            "9\n",
            "8\n",
            "7\n",
            "6\n",
            "5\n"
          ]
        }
      ]
    },
    {
      "cell_type": "code",
      "source": [
        "result = 0\n",
        "for i in range(1,30):\n",
        "  result += i\n",
        "\n",
        "print(result)"
      ],
      "metadata": {
        "colab": {
          "base_uri": "https://localhost:8080/"
        },
        "id": "zrzsvJPEvOOr",
        "outputId": "4908b598-af57-4240-d089-d54086654dbc"
      },
      "execution_count": 35,
      "outputs": [
        {
          "output_type": "stream",
          "name": "stdout",
          "text": [
            "435\n"
          ]
        }
      ]
    },
    {
      "cell_type": "code",
      "source": [
        "#Continue: 다음 반복을 진행하고자 할 때 사용\n",
        "# 1부터 9까지의 홀수의 합을 구할 때\n",
        "result = 0\n",
        "for i in range(1,10):\n",
        "  if i %2 == 0:\n",
        "    continue\n",
        "  result += i\n",
        "\n",
        "print(result)"
      ],
      "metadata": {
        "colab": {
          "base_uri": "https://localhost:8080/"
        },
        "id": "QHe4trj2vOFj",
        "outputId": "9f9cc19c-8bbc-41f9-f8ff-549367696633"
      },
      "execution_count": 36,
      "outputs": [
        {
          "output_type": "stream",
          "name": "stdout",
          "text": [
            "20\n"
          ]
        }
      ]
    },
    {
      "cell_type": "code",
      "source": [
        "# break: 반복문을 즉시 탈출하고자 할 때 사용\n",
        "# 1부터 5까지 정수 출력\n",
        "i = 1\n",
        "while True:\n",
        "  print(\"현재 i의 값: \", i)\n",
        "  if i == 5:\n",
        "    break\n",
        "  i += 1"
      ],
      "metadata": {
        "colab": {
          "base_uri": "https://localhost:8080/"
        },
        "id": "3w6kRB_5vN_l",
        "outputId": "0b2cc281-d960-43d9-ab19-30302bd51d30"
      },
      "execution_count": 37,
      "outputs": [
        {
          "output_type": "stream",
          "name": "stdout",
          "text": [
            "현재 i의 값:  1\n",
            "현재 i의 값:  2\n",
            "현재 i의 값:  3\n",
            "현재 i의 값:  4\n",
            "현재 i의 값:  5\n"
          ]
        }
      ]
    },
    {
      "cell_type": "code",
      "source": [
        "#학생들의 합격 여부 판단 점수가 80점만 넘으면 합격\n",
        "scores = [90,85,77,54, 66,97]\n",
        "for i in range(5):\n",
        "  if scores[i] >=80:\n",
        "    print(i + 1, \"번 학생은 합격입니다\")"
      ],
      "metadata": {
        "colab": {
          "base_uri": "https://localhost:8080/"
        },
        "id": "TRhno57FyiZf",
        "outputId": "1af23056-1a68-4f2a-c465-241ab8cf1885"
      },
      "execution_count": 38,
      "outputs": [
        {
          "output_type": "stream",
          "name": "stdout",
          "text": [
            "1 번 학생은 합격입니다\n",
            "2 번 학생은 합격입니다\n"
          ]
        }
      ]
    },
    {
      "cell_type": "code",
      "source": [
        "# 특정 번호 학생은 제외하기\n",
        "scores = [90,85,77,65,97]\n",
        "cheating_student_list = {2,4}\n",
        "\n",
        "for i in range(5):\n",
        "  if i + i in cheating_student_list:\n",
        "    continue\n",
        "  if scores[i] >= 80:\n",
        "    print(i + 1, \"번 학생은 합격입니다.\")"
      ],
      "metadata": {
        "colab": {
          "base_uri": "https://localhost:8080/"
        },
        "id": "G0TKVjyyyiVS",
        "outputId": "e03e43ad-08b0-4039-db62-416e7451deb8"
      },
      "execution_count": 41,
      "outputs": [
        {
          "output_type": "stream",
          "name": "stdout",
          "text": [
            "1 번 학생은 합격입니다.\n",
            "5 번 학생은 합격입니다.\n"
          ]
        }
      ]
    },
    {
      "cell_type": "code",
      "source": [
        "# 중첩된 반복문: 구구단 예제\n",
        "for i in range(2,10):\n",
        "  for j in range(1, 10):\n",
        "    print(i, \"X\", j, \"=\", i*j)\n",
        "  print()"
      ],
      "metadata": {
        "colab": {
          "base_uri": "https://localhost:8080/"
        },
        "id": "PkaXnAzMyiRY",
        "outputId": "742a777b-4f7d-4a57-ac05-474ac466cbd4"
      },
      "execution_count": 42,
      "outputs": [
        {
          "output_type": "stream",
          "name": "stdout",
          "text": [
            "2 X 1 = 2\n",
            "2 X 2 = 4\n",
            "2 X 3 = 6\n",
            "2 X 4 = 8\n",
            "2 X 5 = 10\n",
            "2 X 6 = 12\n",
            "2 X 7 = 14\n",
            "2 X 8 = 16\n",
            "2 X 9 = 18\n",
            "\n",
            "3 X 1 = 3\n",
            "3 X 2 = 6\n",
            "3 X 3 = 9\n",
            "3 X 4 = 12\n",
            "3 X 5 = 15\n",
            "3 X 6 = 18\n",
            "3 X 7 = 21\n",
            "3 X 8 = 24\n",
            "3 X 9 = 27\n",
            "\n",
            "4 X 1 = 4\n",
            "4 X 2 = 8\n",
            "4 X 3 = 12\n",
            "4 X 4 = 16\n",
            "4 X 5 = 20\n",
            "4 X 6 = 24\n",
            "4 X 7 = 28\n",
            "4 X 8 = 32\n",
            "4 X 9 = 36\n",
            "\n",
            "5 X 1 = 5\n",
            "5 X 2 = 10\n",
            "5 X 3 = 15\n",
            "5 X 4 = 20\n",
            "5 X 5 = 25\n",
            "5 X 6 = 30\n",
            "5 X 7 = 35\n",
            "5 X 8 = 40\n",
            "5 X 9 = 45\n",
            "\n",
            "6 X 1 = 6\n",
            "6 X 2 = 12\n",
            "6 X 3 = 18\n",
            "6 X 4 = 24\n",
            "6 X 5 = 30\n",
            "6 X 6 = 36\n",
            "6 X 7 = 42\n",
            "6 X 8 = 48\n",
            "6 X 9 = 54\n",
            "\n",
            "7 X 1 = 7\n",
            "7 X 2 = 14\n",
            "7 X 3 = 21\n",
            "7 X 4 = 28\n",
            "7 X 5 = 35\n",
            "7 X 6 = 42\n",
            "7 X 7 = 49\n",
            "7 X 8 = 56\n",
            "7 X 9 = 63\n",
            "\n",
            "8 X 1 = 8\n",
            "8 X 2 = 16\n",
            "8 X 3 = 24\n",
            "8 X 4 = 32\n",
            "8 X 5 = 40\n",
            "8 X 6 = 48\n",
            "8 X 7 = 56\n",
            "8 X 8 = 64\n",
            "8 X 9 = 72\n",
            "\n",
            "9 X 1 = 9\n",
            "9 X 2 = 18\n",
            "9 X 3 = 27\n",
            "9 X 4 = 36\n",
            "9 X 5 = 45\n",
            "9 X 6 = 54\n",
            "9 X 7 = 63\n",
            "9 X 8 = 72\n",
            "9 X 9 = 81\n",
            "\n"
          ]
        }
      ]
    },
    {
      "cell_type": "markdown",
      "source": [
        "# ***함수와 람다식***"
      ],
      "metadata": {
        "id": "foHrXfpC19LT"
      }
    },
    {
      "cell_type": "code",
      "source": [
        "# 더하기 함수\n",
        "def add(a,b):\n",
        "  return a+ b\n",
        "\n",
        "print(add(3,7))\n",
        "# 2th.\n",
        "def add(a,b):\n",
        "  print(\"함수의 결과 : \",a + b)\n",
        "\n",
        "add(3,7)"
      ],
      "metadata": {
        "colab": {
          "base_uri": "https://localhost:8080/"
        },
        "id": "rMghWqsSyiNw",
        "outputId": "8a2ed8e7-ccb0-4e6a-93f0-0edccddc5eb6"
      },
      "execution_count": 45,
      "outputs": [
        {
          "output_type": "stream",
          "name": "stdout",
          "text": [
            "10\n",
            "함수의 결과 :  10\n"
          ]
        }
      ]
    },
    {
      "cell_type": "code",
      "source": [
        "#global : 함수 바깥에 선언된 변수를 가져와서 쓴다...\n",
        "a = 10\n",
        "def func():\n",
        "  global a\n",
        "  a += 1\n",
        "  print(a)\n",
        "func()\n",
        "\n",
        "#list는 global을 쓰지 않아도 알아서 불러온다.\n",
        "# 함수가 선언된 변수는 더 우선순위로 불러옴\n",
        "array = [1,2,3,4,5]\n",
        "def func2():\n",
        "  array = [3,4,5]\n",
        "  array.append(6)\n",
        "  print(array)\n",
        "\n",
        "func()\n",
        "print(array)"
      ],
      "metadata": {
        "colab": {
          "base_uri": "https://localhost:8080/"
        },
        "id": "iaFeCzxX2AVF",
        "outputId": "fdbfcb5d-2b0b-4271-cf96-8f87b74fbf75"
      },
      "execution_count": 49,
      "outputs": [
        {
          "output_type": "stream",
          "name": "stdout",
          "text": [
            "11\n",
            "12\n",
            "[1, 2, 3, 4, 5]\n"
          ]
        }
      ]
    },
    {
      "cell_type": "code",
      "source": [
        "#여러 개의 반환 값\n",
        "def operator(a,b):\n",
        "  add_var = a + b\n",
        "  subtract_var = a - b\n",
        "  multiply_var = a * b\n",
        "  divide_var = a / b\n",
        "  return add_var, subtract_var, multiply_var, divide_var\n",
        "\n",
        "a,b,c,d = operator(7,3)\n",
        "print(a,b,c,d)\n"
      ],
      "metadata": {
        "colab": {
          "base_uri": "https://localhost:8080/"
        },
        "id": "eZ0NYtgY2ANQ",
        "outputId": "5f4254cf-175b-4bfb-f326-5267610acd67"
      },
      "execution_count": 50,
      "outputs": [
        {
          "output_type": "stream",
          "name": "stdout",
          "text": [
            "10 4 21 2.3333333333333335\n"
          ]
        }
      ]
    },
    {
      "cell_type": "markdown",
      "source": [
        "# ***람다표현식***"
      ],
      "metadata": {
        "id": "u0YRlQns5PlB"
      }
    },
    {
      "cell_type": "code",
      "source": [
        "array =[('홍길동', 50),('제갈길동', 32),('탁길동', 74)]\n",
        "def my_key(x):\n",
        "  return x[1]\n",
        "  \n",
        "print(sorted(array, key = my_key))\n",
        "print(sorted(array, key = lambda x : x[1]))"
      ],
      "metadata": {
        "colab": {
          "base_uri": "https://localhost:8080/"
        },
        "id": "V7zrnt3P2AFM",
        "outputId": "cadb1888-45d7-4fe5-ad07-a4476e194940"
      },
      "execution_count": 53,
      "outputs": [
        {
          "output_type": "stream",
          "name": "stdout",
          "text": [
            "[('제갈길동', 32), ('홍길동', 50), ('탁길동', 74)]\n",
            "[('제갈길동', 32), ('홍길동', 50), ('탁길동', 74)]\n"
          ]
        }
      ]
    },
    {
      "cell_type": "code",
      "source": [
        "list1 = [1,2,3,4,5]\n",
        "list2 = [6,7,8,9,10]\n",
        "result = map(lambda a, b: a+b, list1, list2)\n",
        "print(list(result))"
      ],
      "metadata": {
        "colab": {
          "base_uri": "https://localhost:8080/"
        },
        "id": "CI8WkDK75zhe",
        "outputId": "707ba126-3f81-4cec-f979-2f2992a534cb"
      },
      "execution_count": 55,
      "outputs": [
        {
          "output_type": "stream",
          "name": "stdout",
          "text": [
            "[7, 9, 11, 13, 15]\n"
          ]
        }
      ]
    },
    {
      "cell_type": "markdown",
      "source": [
        "# ***자주 사용되는 내장 함수***"
      ],
      "metadata": {
        "id": "RHajU3pH63so"
      }
    },
    {
      "cell_type": "code",
      "source": [
        "#eval(): 수식으로 계산된건 그대로 출력\n",
        "result = eval(\"(3+5)*7\")\n",
        "print(result)"
      ],
      "metadata": {
        "colab": {
          "base_uri": "https://localhost:8080/"
        },
        "id": "nsoVHEuu63bc",
        "outputId": "c79e65cb-d6e5-4ba2-c06b-29ba0b5010ae"
      },
      "execution_count": 56,
      "outputs": [
        {
          "output_type": "stream",
          "name": "stdout",
          "text": [
            "56\n"
          ]
        }
      ]
    },
    {
      "cell_type": "code",
      "source": [
        "#sorted()\n",
        "result = sorted([9,1,8,5,4])\n",
        "reverse_result = sorted([9,1,8,5,4], reverse = True)\n",
        "print(result)\n",
        "print(reverse_result)\n",
        "\n",
        "#sorted() with key\n",
        "array = [('홍길동', 50),('제갈길동', 32),('탁길동', 74)]\n",
        "result = sorted(array, key = lambda x : x[1], reverse = True)\n",
        "print(result)"
      ],
      "metadata": {
        "colab": {
          "base_uri": "https://localhost:8080/"
        },
        "id": "lWi52irG7PYc",
        "outputId": "1f26e124-c5dd-4143-cd2d-58817db5ae39"
      },
      "execution_count": 59,
      "outputs": [
        {
          "output_type": "stream",
          "name": "stdout",
          "text": [
            "[1, 4, 5, 8, 9]\n",
            "[9, 8, 5, 4, 1]\n",
            "[('탁길동', 74), ('홍길동', 50), ('제갈길동', 32)]\n"
          ]
        }
      ]
    },
    {
      "cell_type": "markdown",
      "source": [
        "# ***실전에서 사용되는 표준 라이브러리***"
      ],
      "metadata": {
        "id": "0Xnq-s-f9hY_"
      }
    },
    {
      "cell_type": "code",
      "source": [
        "# 순열: 서로 다른 n개에서 서로 다른 r개를 선택해 일렬로 나열하는 것\n",
        "from itertools import permutations\n",
        "\n",
        "data = ['A','B', 'C']   # 데이터 준비\n",
        "\n",
        "result = list(permutations(data, 3))   # 모든 순열 구하기\n",
        "print(result)"
      ],
      "metadata": {
        "colab": {
          "base_uri": "https://localhost:8080/"
        },
        "id": "yXcFMSBv9sCL",
        "outputId": "d85e86ad-ed65-4dc9-a81a-725a8d310cbb"
      },
      "execution_count": 60,
      "outputs": [
        {
          "output_type": "stream",
          "name": "stdout",
          "text": [
            "[('A', 'B', 'C'), ('A', 'C', 'B'), ('B', 'A', 'C'), ('B', 'C', 'A'), ('C', 'A', 'B'), ('C', 'B', 'A')]\n"
          ]
        }
      ]
    },
    {
      "cell_type": "code",
      "source": [
        "# 조합: 서로 다른 n개에서 순서에 상관 없이 서로 다른 r개를 선택하는 것\n",
        "from itertools import combinations\n",
        "\n",
        "data = ['A','B', 'C']   # 데이터 준비\n",
        "\n",
        "result = list(combinations(data, 2))   # 모든 순열 구하기\n",
        "print(result)"
      ],
      "metadata": {
        "colab": {
          "base_uri": "https://localhost:8080/"
        },
        "id": "6zXjXsFp9r6I",
        "outputId": "c76126e5-0d66-4413-f96e-f41defb12d8b"
      },
      "execution_count": 61,
      "outputs": [
        {
          "output_type": "stream",
          "name": "stdout",
          "text": [
            "[('A', 'B'), ('A', 'C'), ('B', 'C')]\n"
          ]
        }
      ]
    },
    {
      "cell_type": "code",
      "source": [
        "# 중복 순열과 중복 조합\n",
        "from itertools import product\n",
        "\n",
        "data = ['A', 'B', 'C']\n",
        "result = list(product(data, repeat = 2)) #2개를 뽑는 모든 순열 구하기(중복허용)\n",
        "print(result)\n",
        "\n",
        "from itertools import combinations_with_replacement\n",
        "\n",
        "data = ['A', 'B', 'C']\n",
        "result = list(combinations_with_replacement(data, 2)) #2개를 뽑는 모든 순열 구하기(중복허용)\n",
        "print(result)"
      ],
      "metadata": {
        "colab": {
          "base_uri": "https://localhost:8080/"
        },
        "id": "287c5KwF-Y2k",
        "outputId": "26a3c7ab-c963-435e-a642-e6fa2d06c298"
      },
      "execution_count": 63,
      "outputs": [
        {
          "output_type": "stream",
          "name": "stdout",
          "text": [
            "[('A', 'A'), ('A', 'B'), ('A', 'C'), ('B', 'A'), ('B', 'B'), ('B', 'C'), ('C', 'A'), ('C', 'B'), ('C', 'C')]\n",
            "[('A', 'A'), ('A', 'B'), ('A', 'C'), ('B', 'B'), ('B', 'C'), ('C', 'C')]\n"
          ]
        }
      ]
    },
    {
      "cell_type": "code",
      "source": [
        "#counter\n",
        "from collections import Counter\n",
        "counter = Counter(['red','blue','red','green','blue','blue'])\n",
        "\n",
        "print(counter['blue']) # 'blue'가 등장한 횟수 출력\n",
        "print(counter['green']) # 'green'이 등장한 횟수 출력\n",
        "print(dict(counter))  #사전 자료형으로 반환"
      ],
      "metadata": {
        "id": "0xHYBJkt-Yr4"
      },
      "execution_count": 65,
      "outputs": []
    },
    {
      "cell_type": "code",
      "source": [
        "import math\n",
        "\n",
        "#최소 공배수(LCM)를 구하는 함수\n",
        "def lcm(a,b):\n",
        "  return a*b//math.gcd(a,b)\n",
        "\n",
        "a = 21\n",
        "b = 14\n",
        "\n",
        "print(math.gcd(21,14)) # 최대 공약수(GCD) 계산\n",
        "print(lcm(21, 14)) # 최소 공배수(LCM) 계산"
      ],
      "metadata": {
        "colab": {
          "base_uri": "https://localhost:8080/"
        },
        "id": "16LMPUHv-Yft",
        "outputId": "e2d9411e-e17a-434e-dbb8-bec4f02ba66e"
      },
      "execution_count": 66,
      "outputs": [
        {
          "output_type": "stream",
          "name": "stdout",
          "text": [
            "7\n",
            "42\n"
          ]
        }
      ]
    }
  ]
}