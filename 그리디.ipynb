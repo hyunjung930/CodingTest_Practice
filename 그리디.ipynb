{
  "nbformat": 4,
  "nbformat_minor": 0,
  "metadata": {
    "colab": {
      "name": "그리디.ipynb",
      "provenance": [],
      "collapsed_sections": [],
      "authorship_tag": "ABX9TyOplqiPEwpi8RpEe6QHoXeB",
      "include_colab_link": true
    },
    "kernelspec": {
      "name": "python3",
      "display_name": "Python 3"
    },
    "language_info": {
      "name": "python"
    }
  },
  "cells": [
    {
      "cell_type": "markdown",
      "metadata": {
        "id": "view-in-github",
        "colab_type": "text"
      },
      "source": [
        "<a href=\"https://colab.research.google.com/github/hyunjung930/CodingTest_Practice/blob/hyunjung/%EA%B7%B8%EB%A6%AC%EB%94%94.ipynb\" target=\"_parent\"><img src=\"https://colab.research.google.com/assets/colab-badge.svg\" alt=\"Open In Colab\"/></a>"
      ]
    },
    {
      "cell_type": "markdown",
      "source": [
        "# ***그리디***"
      ],
      "metadata": {
        "id": "vZalfcC0AITR"
      }
    },
    {
      "cell_type": "markdown",
      "source": [
        "***그리디 알고리즘***"
      ],
      "metadata": {
        "id": "eTSctKI4AKUJ"
      }
    },
    {
      "cell_type": "code",
      "source": [
        "#거스름돈 알고리즘\n",
        "n = 1260\n",
        "count = 0\n",
        "\n",
        "#큰 단위의 화폐부터 차례대로 확인하기\n",
        "array = [500, 100, 50, 10]\n",
        "\n",
        "for coin in array:\n",
        "  count += n // coin #해당 화폐로 거슬러 줄 수 있는 동전의 개수 세기\n",
        "  n %= coin\n",
        "\n",
        "print(count)"
      ],
      "metadata": {
        "colab": {
          "base_uri": "https://localhost:8080/"
        },
        "id": "IFPEqwn3AQVS",
        "outputId": "44ff564c-c2b3-4336-ede3-8930b720d8f7"
      },
      "execution_count": 2,
      "outputs": [
        {
          "output_type": "stream",
          "name": "stdout",
          "text": [
            "6\n"
          ]
        }
      ]
    },
    {
      "cell_type": "markdown",
      "source": [
        "***1이 될 때까지***"
      ],
      "metadata": {
        "id": "OMQXnSINEaL1"
      }
    },
    {
      "cell_type": "code",
      "source": [
        "#N, K을 공백을 기준으로 구분하여 입력 받기\n",
        "n, k = map(int, input().split())  #입력받은 수(정수)를 공백 기준으로 나누기\n",
        "\n",
        "result = 0\n",
        "\n",
        "while True:\n",
        "  # N, K로 나누어 떨어지는 수가 될 때까지 빼기\n",
        "  target = (n//k) * k # N이 K로 나눠지지 않을때 \n",
        "  result += (n - target)\n",
        "  n = target\n",
        "  # N,K보다 작을 때 (더 이상 나눌 수 없을 때) 반복문 탈출\n",
        "  if n < k:\n",
        "    break\n",
        "  # K로 나누기\n",
        "  result += 1\n",
        "  n //= k\n",
        "\n",
        "#마지막으로 남은 수에 대하여 1씩 빼기\n",
        "result += (n - 1)\n",
        "print(result)\n",
        "\n"
      ],
      "metadata": {
        "colab": {
          "base_uri": "https://localhost:8080/"
        },
        "id": "OMIQbVAtAQRY",
        "outputId": "7af422bc-ac88-4fd5-a0fc-965232859691"
      },
      "execution_count": 4,
      "outputs": [
        {
          "output_type": "stream",
          "name": "stdout",
          "text": [
            "100 3\n",
            "7\n"
          ]
        }
      ]
    },
    {
      "cell_type": "markdown",
      "source": [
        "***곱하기 혹은 더하기***"
      ],
      "metadata": {
        "id": "gifpO1b7IPzA"
      }
    },
    {
      "cell_type": "code",
      "source": [
        "data = input()\n",
        "\n",
        "# 첫 번째 문자를 숫자로 변경하여 대입\n",
        "result = int(data[0])\n",
        "\n",
        "for i in range(1, len(data)):\n",
        "  #두 수 중에서 하나라도 0 혹은 1인경우, 곱하기 보다는 더하기 수행\n",
        "  num = int(data[i])\n",
        "  if num <=1 or result <=1:\n",
        "    result += num\n",
        "  else:\n",
        "    result *= num\n",
        "\n",
        "print(result)"
      ],
      "metadata": {
        "colab": {
          "base_uri": "https://localhost:8080/"
        },
        "id": "BlgnVQ5cIShO",
        "outputId": "a598d570-7080-465f-c5c9-e1844be30fdc"
      },
      "execution_count": 8,
      "outputs": [
        {
          "output_type": "stream",
          "name": "stdout",
          "text": [
            "12345\n",
            "180\n"
          ]
        }
      ]
    },
    {
      "cell_type": "markdown",
      "source": [
        "***모험가 길드***"
      ],
      "metadata": {
        "id": "km2d_glFKmjp"
      }
    },
    {
      "cell_type": "code",
      "source": [
        "n = int(input())\n",
        "data = list(map(int, input().split()))\n",
        "data.sort()\n",
        "\n",
        "result = 0 # 총 그룹의 수\n",
        "count = 0 # 현재 그룹에 포함된 모험가의 수\n",
        "\n",
        "for i in data: #공포도를 낮은 것부터 하나씩 확인하기\n",
        "  count += 1  #현재 그룹에 해당 모험가를 포함시키기\n",
        "  if count >= i: # 현재 그룹에 포함된 모험가의 수가 현재의 공포도 이상이라면, 그룹결성\n",
        "    result += 1 # 총 그룹의 수 증가시키기\n",
        "    count = 0 # 현재 그룹에 포함된 모험가의 수 초기화\n",
        "\n",
        "print(result)"
      ],
      "metadata": {
        "colab": {
          "base_uri": "https://localhost:8080/"
        },
        "id": "XGdkULApKota",
        "outputId": "1785ae46-1e75-40ef-8674-c8f007d2fa03"
      },
      "execution_count": 11,
      "outputs": [
        {
          "output_type": "stream",
          "name": "stdout",
          "text": [
            "4\n",
            "1 1 3 2 3 4\n",
            "3\n"
          ]
        }
      ]
    }
  ]
}