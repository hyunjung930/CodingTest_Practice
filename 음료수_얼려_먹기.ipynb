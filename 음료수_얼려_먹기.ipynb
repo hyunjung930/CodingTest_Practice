{
  "nbformat": 4,
  "nbformat_minor": 0,
  "metadata": {
    "colab": {
      "name": "음료수 얼려 먹기.ipynb",
      "provenance": [],
      "authorship_tag": "ABX9TyPKEHiyUSrojj7gdJupkUDs",
      "include_colab_link": true
    },
    "kernelspec": {
      "name": "python3",
      "display_name": "Python 3"
    },
    "language_info": {
      "name": "python"
    }
  },
  "cells": [
    {
      "cell_type": "markdown",
      "metadata": {
        "id": "view-in-github",
        "colab_type": "text"
      },
      "source": [
        "<a href=\"https://colab.research.google.com/github/hyunjung930/CodingTest_Practice/blob/hyunjung/%EC%9D%8C%EB%A3%8C%EC%88%98_%EC%96%BC%EB%A0%A4_%EB%A8%B9%EA%B8%B0.ipynb\" target=\"_parent\"><img src=\"https://colab.research.google.com/assets/colab-badge.svg\" alt=\"Open In Colab\"/></a>"
      ]
    },
    {
      "cell_type": "markdown",
      "source": [
        "# ***음료수 얼려 먹기***"
      ],
      "metadata": {
        "id": "LmNv7mQP-Kag"
      }
    },
    {
      "cell_type": "code",
      "execution_count": null,
      "metadata": {
        "id": "kLC5PVd39_Dp"
      },
      "outputs": [],
      "source": [
        "# DFS로 특정 노드를 방문하고 연결된 모든 노드들도 방문\n",
        "def dsf(x, y):\n",
        "\t#주어진 범위를 벗어나는 경우에는 즉시 종료\n",
        "    if x <= -1 or x >= n or y <= -1 or y >=m:\n",
        "    \treturn False\n",
        "    if graph[x][y] == 0:\n",
        "    \t#해당 노드 방문 처리\n",
        "        graph[x][y] = 1\n",
        "        #상 하 좌 우의 위치들도 모두 재귀적으로 호출 --> return 값 사용 안함\n",
        "        dfs(x - 1, y)\n",
        "        dfs(x, y - 1)\n",
        "        dfs(x + 1, y)\n",
        "        dfs(x, y + 1)\n",
        "        return True\n",
        "    return False\n",
        "\n",
        "# N, M을 공백을 기준으로 구분하여 입력받기\n",
        "n, m = map(int, input().split())\n",
        "\n",
        "#2차원 리스트의 맵 정보 입력 받기\n",
        "graph = []\n",
        "for i in range(n):\n",
        "\tgraph.append(list(map(int, input()))\n",
        "\n",
        "# 모든 노드(위치)에 대해 음료수 채우기\n",
        "result = 0\n",
        "for i in range(n):\n",
        "\tfor j in range(m):\n",
        "    \t#현재 위치에서 DFS 수행\n",
        "        if dfs(i, j) ==True:\t\n",
        "        #해당 노드가 방문 처리가 되었다면(처음 방문하는 것이라면) result 값 증가\n",
        "        \tresult += 1\n",
        "\n",
        "print(result) #정답 출력"
      ]
    }
  ]
}