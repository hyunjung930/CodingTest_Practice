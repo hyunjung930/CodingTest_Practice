{
  "nbformat": 4,
  "nbformat_minor": 0,
  "metadata": {
    "colab": {
      "name": "프로그래머스.ipynb",
      "provenance": [],
      "collapsed_sections": [],
      "authorship_tag": "ABX9TyOQrtiImr8T0uK3UJQrf6be",
      "include_colab_link": true
    },
    "kernelspec": {
      "name": "python3",
      "display_name": "Python 3"
    },
    "language_info": {
      "name": "python"
    }
  },
  "cells": [
    {
      "cell_type": "markdown",
      "metadata": {
        "id": "view-in-github",
        "colab_type": "text"
      },
      "source": [
        "<a href=\"https://colab.research.google.com/github/hyunjung930/CodingTest_Practice/blob/hyunjung/%ED%94%84%EB%A1%9C%EA%B7%B8%EB%9E%98%EB%A8%B8%EC%8A%A4.ipynb\" target=\"_parent\"><img src=\"https://colab.research.google.com/assets/colab-badge.svg\" alt=\"Open In Colab\"/></a>"
      ]
    },
    {
      "cell_type": "code",
      "execution_count": null,
      "metadata": {
        "id": "brwcnSDQ64Ir"
      },
      "outputs": [],
      "source": [
        "# 자연수 뒤집어 배열 만들기\n",
        "# 자연수 n을 뒤집어 각 자리 숫자를 원소로 가지는 배열 형태로 리턴해주세요. \n",
        "# 예를들어 n이 12345이면 [5,4,3,2,1]을 리턴합니다.\n",
        "def solution(n):\n",
        "    return list(map(int, reversed(str(n))))"
      ]
    },
    {
      "cell_type": "code",
      "source": [
        "# 두개 뽑아서 더하기\n",
        "# 정수 배열 numbers 가 주어진다. numbers에서 서로 다른 인덱스에 있는 두개의 수를 뽑아 더해서 만들 수 있는 모든 수를 배열에 오름차순으로 담아 return 하도록 Solution함수를 완성하시오\n",
        "from itertools import combinations\n",
        "def solution(numbers):\n",
        "    return sorted(list(set([sum([i,j]) for i,j in combinations(numbers,2)])))\n",
        "\n"
      ],
      "metadata": {
        "id": "Tlz9qlYA9ZsH"
      },
      "execution_count": null,
      "outputs": []
    },
    {
      "cell_type": "code",
      "source": [
        "# 부족한 금액 계산하기\n",
        "# 이용금액이 3인 놀이기구를 4번 타고 싶은 고객이 현재 가진 금액이 20이라면\n",
        "# 총 필요한 놀이기구의 이용 금액은 30 (= 3+6+9+12) 이 되어 10만큼 부족하므로 10을 return 합니다.\n",
        "\n",
        "#1\n",
        "def solution(price, money, count):\n",
        "    return max(0,price*(count+1)*count//2-money)\n",
        "\n",
        "#2\n",
        "def solution(price, money, count):\n",
        "    return abs(min(money - sum([price*i for i in range(1,count+1)]),0))\n",
        "\n",
        "#3\n",
        "def solution(price, money, count):\n",
        "    # answer = -1\n",
        "    pay = 0\n",
        "    for i in range(1, count+1):\n",
        "        pay += (price * i)\n",
        "    if money < pay:\n",
        "        return pay - money\n",
        "    else:\n",
        "        return 0"
      ],
      "metadata": {
        "id": "mSke_eSDr0Xj"
      },
      "execution_count": null,
      "outputs": []
    },
    {
      "cell_type": "code",
      "source": [
        "# 문자열을 정수로 바꾸기\n",
        "# 문자열 s를 숫자로 변환한 결과를 반환하는 함수, solution을 완성하세요.\n",
        "def solution(s):\n",
        "  return int(s)"
      ],
      "metadata": {
        "id": "YBH3L1GCfujX"
      },
      "execution_count": null,
      "outputs": []
    },
    {
      "cell_type": "code",
      "source": [
        "# 문자열 내 마음대로 정렬하기\n",
        "#1\n",
        "def solution(strings, n):\n",
        "    strings.sort() \n",
        "    return sorted(strings, key=lambda x:x[n])\n",
        "#2\n",
        "def solution(strings, n):\n",
        "    return sorted(strings, key=lambda x:(x[n],x))\n"
      ],
      "metadata": {
        "id": "uDbwSQ1pfud6"
      },
      "execution_count": null,
      "outputs": []
    },
    {
      "cell_type": "code",
      "source": [
        "#같은 숫자는 싫어\n",
        "def solution(arr):\n",
        "    answer = []\n",
        "    for i in arr:\n",
        "        if len(answer) > 0 and answer[-1] == i:\n",
        "            continue\n",
        "        answer.append(i)\n",
        "    return answer"
      ],
      "metadata": {
        "id": "wfXf1OBlrzzX"
      },
      "execution_count": null,
      "outputs": []
    }
  ]
}