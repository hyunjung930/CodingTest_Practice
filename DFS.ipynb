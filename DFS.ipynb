{
  "nbformat": 4,
  "nbformat_minor": 0,
  "metadata": {
    "colab": {
      "name": "DFS.ipynb",
      "provenance": [],
      "authorship_tag": "ABX9TyOiTwf4i13T5JPDqoIMzNYu",
      "include_colab_link": true
    },
    "kernelspec": {
      "name": "python3",
      "display_name": "Python 3"
    },
    "language_info": {
      "name": "python"
    }
  },
  "cells": [
    {
      "cell_type": "markdown",
      "metadata": {
        "id": "view-in-github",
        "colab_type": "text"
      },
      "source": [
        "<a href=\"https://colab.research.google.com/github/hyunjung930/CodingTest_Practice/blob/hyunjung/DFS.ipynb\" target=\"_parent\"><img src=\"https://colab.research.google.com/assets/colab-badge.svg\" alt=\"Open In Colab\"/></a>"
      ]
    },
    {
      "cell_type": "markdown",
      "source": [
        "# ***DFS(Depth - Fiest Search)***\n",
        "\n",
        "- DFS는 깊이 우선 탐색이라고 부르며 그래프에서 깊은 부분을 우선적으로 탐색하는 알고리즘이다.\n",
        "- DFS는 스택 자료구조(혹은 재귀함수)를 이용하며, 구체적인 동작은 다음과 같다\n",
        "1. 탐색 시작 노드를 스택에 삽입하고 방문 처리를 한다.\n",
        "2. 스택의 최상단 노드에 방문하지 않은 인접한 노드가 하나라도 있으면 그 노드를 스택에 넣고 방문처리한다. 방문하지 않은 인접 노드가 없으면 스택에서 최상단 노드를 꺼낸다.\n",
        "3. 더 이상 2번의 과정을 수행할 수 없을 때까지 반복한다.  "
      ],
      "metadata": {
        "id": "_Lhmr4f0vRKH"
      }
    },
    {
      "cell_type": "code",
      "execution_count": null,
      "metadata": {
        "id": "V4pl6XEzvNSD"
      },
      "outputs": [],
      "source": [
        "#DFS 메서드 정의\n",
        "def dfs(graph, v, visited):\n",
        "\t#현재 노드를 방문처리\n",
        "    visited[v] = True\n",
        "    #현재 노드와 연결된 다른 노드를 재귀적으로 방문\n",
        "    for i in graph[v]:\n",
        "    \tif not visited[i]:\n",
        "        \tdfs(graph, i, visited)\n",
        "\n",
        "#실행 결과\n",
        "#1 2 7 6 8 3 4 5\n",
        "\n",
        "# 각 노드가 연결된 정보를 표현 (2차원 리스트)\n",
        "graph = [\n",
        "\t[], # 인덱스 0에 대해서는 비워준다. 첫번째부터 시작\n",
        "    [2,3,8], # 1번노드와 연결된건 2,3,8\n",
        "    [1,7],\n",
        "    [1,4,5],\n",
        "    [3,5],\n",
        "    [3,4],\n",
        "    [7],\n",
        "    [2,6,8],\n",
        "    [1,7]\n",
        "]\n",
        "\n",
        "#각 노드가 방문된 정보를 표현(1차원 리스트)\n",
        "visited [False] * 9  #방문처리:visited 기본적인 값 false 기본적으로 하나더 큰 크기로 초기화 해줄 수 있다.\n",
        "\n",
        "#정의된 DFS 함수 호출\n",
        "dfs(graph, 1, visited)"
      ]
    }
  ]
}