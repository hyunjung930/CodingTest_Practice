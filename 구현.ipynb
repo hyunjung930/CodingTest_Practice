{
  "nbformat": 4,
  "nbformat_minor": 0,
  "metadata": {
    "colab": {
      "name": "구현.ipynb",
      "provenance": [],
      "authorship_tag": "ABX9TyPz0pF12YWfLNpSqWwh2vM8",
      "include_colab_link": true
    },
    "kernelspec": {
      "name": "python3",
      "display_name": "Python 3"
    },
    "language_info": {
      "name": "python"
    }
  },
  "cells": [
    {
      "cell_type": "markdown",
      "metadata": {
        "id": "view-in-github",
        "colab_type": "text"
      },
      "source": [
        "<a href=\"https://colab.research.google.com/github/hyunjung930/CodingTest_Practice/blob/hyunjung/%EA%B5%AC%ED%98%84.ipynb\" target=\"_parent\"><img src=\"https://colab.research.google.com/assets/colab-badge.svg\" alt=\"Open In Colab\"/></a>"
      ]
    },
    {
      "cell_type": "markdown",
      "source": [
        "# ***구현***"
      ],
      "metadata": {
        "id": "fj1gU7jjcN00"
      }
    },
    {
      "cell_type": "code",
      "execution_count": 4,
      "metadata": {
        "colab": {
          "base_uri": "https://localhost:8080/"
        },
        "id": "mJA911EFy_3W",
        "outputId": "205e58fb-b318-4294-98e9-93a83606e128"
      },
      "outputs": [
        {
          "output_type": "stream",
          "name": "stdout",
          "text": [
            "3\n"
          ]
        }
      ],
      "source": [
        "#두 정수 A와 B를 입력받은 다음, A+B를 출력하는 프로그램을 작성하시오.\n",
        "# A = int(input())\n",
        "# B = int(input())\n",
        "\n",
        "# print(A + B)\n",
        "A, B = map(int, input().split())\n",
        "\n",
        "print(A+B)"
      ]
    },
    {
      "cell_type": "code",
      "source": [
        "# 두 정수 A와 B를 입력받은 다음, A-B를 출력하는 프로그램을 작성하시오.\n",
        "A, B = map(int, input().split())\n",
        "\n",
        "print(A-B)"
      ],
      "metadata": {
        "colab": {
          "base_uri": "https://localhost:8080/"
        },
        "id": "5zDjB024c311",
        "outputId": "c85b19a4-179c-453c-da28-b8da10e165c0"
      },
      "execution_count": 8,
      "outputs": [
        {
          "output_type": "stream",
          "name": "stdout",
          "text": [
            "3 2\n",
            "1\n"
          ]
        }
      ]
    },
    {
      "cell_type": "code",
      "source": [
        "#두 정수 A와 B를 입력받은 다음, A×B를 출력하는 프로그램을 작성하시오.\n",
        "A, B = map(int, input().split())\n",
        "print(A*B)"
      ],
      "metadata": {
        "colab": {
          "base_uri": "https://localhost:8080/"
        },
        "id": "KKBgUWY_c3q8",
        "outputId": "bbb9c30d-fbce-4a1e-95b3-8fd230244441"
      },
      "execution_count": 10,
      "outputs": [
        {
          "output_type": "stream",
          "name": "stdout",
          "text": [
            "1 2\n",
            "2\n"
          ]
        }
      ]
    },
    {
      "cell_type": "code",
      "source": [
        "#두 자연수 A와 B가 주어진다. 이때, A+B, A-B, A*B, A/B(몫), A%B(나머지)를 출력하는 프로그램을 작성하시오. \n",
        "# 첫째 줄에 A+B, 둘째 줄에 A-B, 셋째 줄에 A*B, 넷째 줄에 A/B, 다섯째 줄에 A%B를 출력한다.\n",
        "A, B = map(int, input().split())\n",
        "print(A + B)\n",
        "print(A - B)\n",
        "print(A * B)\n",
        "print(int(A / B))\n",
        "print(A % B)\n"
      ],
      "metadata": {
        "colab": {
          "base_uri": "https://localhost:8080/"
        },
        "id": "l90yaBXoeKDe",
        "outputId": "c71362ee-fd2e-49d9-8208-809075217f47"
      },
      "execution_count": 11,
      "outputs": [
        {
          "output_type": "stream",
          "name": "stdout",
          "text": [
            "7 3\n",
            "10\n",
            "4\n",
            "21\n",
            "2.3333333333333335\n",
            "1\n"
          ]
        }
      ]
    },
    {
      "cell_type": "code",
      "source": [
        "#시험 점수를 입력받아 90 ~ 100점은 A, 80 ~ 89점은 B, 70 ~ 79점은 C, 60 ~ 69점은 D, 나머지 점수는 F를 출력하는 프로그램을 작성하시오.\n",
        "s = int(input())\n",
        "if 90 <= s:\n",
        "  print(\"A\")\n",
        "elif 80 <= s:\n",
        "  print(\"B\")\n",
        "elif 70 <= s:\n",
        "  print(\"C\")\n",
        "elif 60 <= s:\n",
        "  print(\"D\")\n",
        "else:\n",
        "  print(\"F\")\n"
      ],
      "metadata": {
        "colab": {
          "base_uri": "https://localhost:8080/"
        },
        "id": "zwaukPlPgpP4",
        "outputId": "389e19de-ab32-4442-e4d7-c203f43bd010"
      },
      "execution_count": 12,
      "outputs": [
        {
          "output_type": "stream",
          "name": "stdout",
          "text": [
            "100\n",
            "A\n"
          ]
        }
      ]
    },
    {
      "cell_type": "code",
      "source": [
        "#첫째 줄에는 별 1개, 둘째 줄에는 별 2개, N번째 줄에는 별 N개를 찍는 문제\n",
        "a = int(input())\n",
        "for i in range(1, a + 1):\n",
        "    print(\"*\" * i) # ,로 연결하면 공백이 하나 더 생긴다. +로 해야함."
      ],
      "metadata": {
        "colab": {
          "base_uri": "https://localhost:8080/"
        },
        "id": "ownxC5AugpE8",
        "outputId": "2febab2b-78ce-49eb-f1d6-b17573ed0aab"
      },
      "execution_count": 17,
      "outputs": [
        {
          "output_type": "stream",
          "name": "stdout",
          "text": [
            "5\n",
            "*\n",
            "**\n",
            "***\n",
            "****\n",
            "*****\n"
          ]
        }
      ]
    },
    {
      "cell_type": "code",
      "source": [
        "#자연수 N이 주어졌을 때, 1부터 N까지 한 줄에 하나씩 출력하는 프로그램을 작성하시오.\n",
        "N = int(input())\n",
        "for i in range(1, N+1):\n",
        "  print(i)"
      ],
      "metadata": {
        "colab": {
          "base_uri": "https://localhost:8080/"
        },
        "id": "PcNuGvE84CEV",
        "outputId": "cb4abc04-007d-47cf-f2d1-3eb733955d94"
      },
      "execution_count": 18,
      "outputs": [
        {
          "output_type": "stream",
          "name": "stdout",
          "text": [
            "3\n",
            "1\n",
            "2\n",
            "3\n"
          ]
        }
      ]
    },
    {
      "cell_type": "code",
      "source": [
        ""
      ],
      "metadata": {
        "id": "xPFC9s0t4B-q"
      },
      "execution_count": null,
      "outputs": []
    }
  ]
}