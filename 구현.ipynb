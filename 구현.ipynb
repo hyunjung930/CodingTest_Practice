{
  "nbformat": 4,
  "nbformat_minor": 0,
  "metadata": {
    "colab": {
      "name": "구현.ipynb",
      "provenance": [],
      "authorship_tag": "ABX9TyNknC1bKj/axSEM95gfZCJm",
      "include_colab_link": true
    },
    "kernelspec": {
      "name": "python3",
      "display_name": "Python 3"
    },
    "language_info": {
      "name": "python"
    }
  },
  "cells": [
    {
      "cell_type": "markdown",
      "metadata": {
        "id": "view-in-github",
        "colab_type": "text"
      },
      "source": [
        "<a href=\"https://colab.research.google.com/github/hyunjung930/CodingTest_Practice/blob/hyunjung/%EA%B5%AC%ED%98%84.ipynb\" target=\"_parent\"><img src=\"https://colab.research.google.com/assets/colab-badge.svg\" alt=\"Open In Colab\"/></a>"
      ]
    },
    {
      "cell_type": "markdown",
      "source": [
        "# ***구현***"
      ],
      "metadata": {
        "id": "XcVuHiBUY53f"
      }
    },
    {
      "cell_type": "markdown",
      "source": [
        "***시뮬레이션과 완전탐색***"
      ],
      "metadata": {
        "id": "1PKWFH2TY0th"
      }
    },
    {
      "cell_type": "markdown",
      "source": [
        "***상하좌우***"
      ],
      "metadata": {
        "id": "5sadTWuhZCgG"
      }
    },
    {
      "cell_type": "code",
      "source": [
        "# N 공간의 크기 input\n",
        "n = int(input())\n",
        "x, y  = 1, 1\n",
        "plans = input().split()\n",
        "\n",
        "# L, R, U, D에 따른 이동 방향\n",
        "dx = [0,0,-1,1]\n",
        "dy = [-1,1,0,0]\n",
        "move_types = ['L','R','U','D']\n",
        "\n",
        "# 이동 계획을 하나씩 확인하기\n",
        "for plan in plans:\n",
        "  # 이동 후 좌표 구하기\n",
        "  for i in range(len(move_types)):\n",
        "    if plan == move_types[i]:\n",
        "      nx = x + dx[i]    # 이동 방향을 초기화 시키지 않아도 가능(nx, ny)\n",
        "      ny = y + dy[i]\n",
        "    # 공간을 벗어나는 경우 무시\n",
        "  if nx < 1 or ny < 1 or nx > n or ny > n:\n",
        "      continue\n",
        "   # 이동 수행\n",
        "    x, y = nx, ny\n",
        "\n",
        "print(x,y)"
      ],
      "metadata": {
        "id": "JziPQ59GY_Qi"
      },
      "execution_count": null,
      "outputs": []
    },
    {
      "cell_type": "markdown",
      "source": [
        "***시각***"
      ],
      "metadata": {
        "id": "0MZKBF1RcIFn"
      }
    },
    {
      "cell_type": "code",
      "source": [
        "# 정수 입력받기\n",
        "h = int(input())\n",
        "\n",
        "count = 0\n",
        "for i in range(h + 1):\n",
        "  for j in range(60): # 'j'는 분\n",
        "    for k in range(60): #'k' 초\n",
        "      #매 시각 안에 '3'이 포함되면 카운트 증가\n",
        "      if '3' in str(i) + str(j) + str(k):\n",
        "        count += 1\n",
        "\n",
        "print(count)"
      ],
      "metadata": {
        "colab": {
          "base_uri": "https://localhost:8080/"
        },
        "id": "5G9KqMC4cKFc",
        "outputId": "9b548172-57ed-43ab-e29a-7010fe5ffee9"
      },
      "execution_count": 4,
      "outputs": [
        {
          "output_type": "stream",
          "name": "stdout",
          "text": [
            "3\n",
            "8325\n"
          ]
        }
      ]
    },
    {
      "cell_type": "markdown",
      "source": [
        "***왕실의 나이트***"
      ],
      "metadata": {
        "id": "ltf6ZHk8ATY1"
      }
    },
    {
      "cell_type": "code",
      "source": [
        "# 현재 나이트의 위치 입력받기\n",
        "input_data = input()\n",
        "row = int(input_data[1])\n",
        "column = int(ord(input_data[0])) - int(ord('a')) + 1\n",
        "\n",
        "#나이트가 이동할 수 있는 8가지 방향 정의\n",
        "steps = [(-2, -1),(-1,-2),(1,-2),(2,-1),(2,1),(1,2),(-1,2),(-2,1)]\n",
        "\n",
        "#8가지 방향에 대하여 각 위치로 이동이 가능한지 확인\n",
        "result = 0\n",
        "for step in steps:\n",
        "  #이동하고자 하는 위치 확인\n",
        "  next_row = row + step[0]\n",
        "  next_column = column + step[1]\n",
        "  #해당 위치로 이동이 가능하다면 카운트 증가\n",
        "  if next_row >= 1 and next_row <= 8 and next_column >= 1 and next_column <= 8:\n",
        "    result += 1\n",
        "\n",
        "print(result)\n"
      ],
      "metadata": {
        "colab": {
          "base_uri": "https://localhost:8080/"
        },
        "id": "vzWDpvdUchjW",
        "outputId": "1949c8de-72bc-4879-90b6-e259d75fcffe"
      },
      "execution_count": 7,
      "outputs": [
        {
          "output_type": "stream",
          "name": "stdout",
          "text": [
            "a1\n",
            "2\n"
          ]
        }
      ]
    },
    {
      "cell_type": "markdown",
      "source": [
        "***문자열 재정렬***"
      ],
      "metadata": {
        "id": "S7rnV7k8Cmha"
      }
    },
    {
      "cell_type": "code",
      "source": [
        "data = input()\n",
        "result = []\n",
        "value = 0\n",
        "\n",
        "# 문자를 하나씩 확인하며\n",
        "for x in data:\n",
        "  # 알파벳인 경우 결과 리스트에 삽입\n",
        "  if x.isalpha():\n",
        "    result.append(x)\n",
        "  # 숫자는 따로 더하기\n",
        "  else:\n",
        "    value += int(x)\n",
        "\n",
        "# 알파벳을 오름차순으로 정렬\n",
        "result.sort()\n",
        "\n",
        "# 숫자가 하나라도 존재하는 경우 가장 뒤에 삽입\n",
        "if value !=0:\n",
        "  result.append(str(value))\n",
        "\n",
        "# 최종 결과 출력(리스트를 문자열로 변환하여 출력)\n",
        "print(''.join(result))\n"
      ],
      "metadata": {
        "colab": {
          "base_uri": "https://localhost:8080/"
        },
        "id": "FLACwVV9CqIo",
        "outputId": "3252c477-4fd4-405b-b793-aae6b6aa51bc"
      },
      "execution_count": 8,
      "outputs": [
        {
          "output_type": "stream",
          "name": "stdout",
          "text": [
            "1q2w3e4rr\n",
            "eqrrw10\n"
          ]
        }
      ]
    }
  ]
}